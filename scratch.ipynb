{
 "cells": [
  {
   "cell_type": "code",
   "execution_count": null,
   "metadata": {},
   "outputs": [],
   "source": [
    "# (Move get pts close to line to this step entirely)"
   ]
  },
  {
   "cell_type": "code",
   "execution_count": null,
   "metadata": {},
   "outputs": [],
   "source": [
    "# Take a set of points\n",
    "    # Call the below recursive function to get the slope and intercept:\n",
    "        # Fit a line to them\n",
    "        # If the line is within acceptable characteristics, return it\n",
    "        # Else\n",
    "            # Remove outliers by ramping / decreasing slope, removing pts, reffitting (USUALLY outliers cause a slope issue, not an intercept issue)\n",
    "            # If after 5 tries you don't get an acceptable slope AND intercept, give up and return None (will use previous line in the memory)"
   ]
  }
 ],
 "metadata": {
  "kernelspec": {
   "display_name": "Python 3.10.7 64-bit",
   "language": "python",
   "name": "python3"
  },
  "language_info": {
   "name": "python",
   "version": "3.10.7"
  },
  "orig_nbformat": 4,
  "vscode": {
   "interpreter": {
    "hash": "b0fa6594d8f4cbf19f97940f81e996739fb7646882a419484c72d19e05852a7e"
   }
  }
 },
 "nbformat": 4,
 "nbformat_minor": 2
}
